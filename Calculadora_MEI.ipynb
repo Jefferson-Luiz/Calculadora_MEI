{
  "nbformat": 4,
  "nbformat_minor": 0,
  "metadata": {
    "colab": {
      "provenance": [],
      "authorship_tag": "ABX9TyMoZ8STOQ82RqWNa4X7Q32x",
      "include_colab_link": true
    },
    "kernelspec": {
      "name": "python3",
      "display_name": "Python 3"
    },
    "language_info": {
      "name": "python"
    }
  },
  "cells": [
    {
      "cell_type": "markdown",
      "metadata": {
        "id": "view-in-github",
        "colab_type": "text"
      },
      "source": [
        "<a href=\"https://colab.research.google.com/github/Jefferson-Luiz/Calculadora_MEI/blob/main/Calculadora_MEI.ipynb\" target=\"_parent\"><img src=\"https://colab.research.google.com/assets/colab-badge.svg\" alt=\"Open In Colab\"/></a>"
      ]
    },
    {
      "cell_type": "code",
      "execution_count": 3,
      "metadata": {
        "colab": {
          "base_uri": "https://localhost:8080/"
        },
        "id": "SeaULnv4wNTO",
        "outputId": "d5ae92a3-4908-4297-c6aa-c5066ca23a3b"
      },
      "outputs": [
        {
          "output_type": "stream",
          "name": "stdout",
          "text": [
            "Ramo de atividade (I - Indústria, C - Comércio, S - Serviços): 81000.00\n",
            "Opção inválida. Digite I, C ou S.\n",
            "Ramo de atividade (I - Indústria, C - Comércio, S - Serviços): 8100.00\n",
            "Opção inválida. Digite I, C ou S.\n",
            "Ramo de atividade (I - Indústria, C - Comércio, S - Serviços): s\n",
            "Receita Bruta Anual do MEI: R$ 81000.00\n",
            "Despesas Comprovadas Anuais: R$ 8100.00\n",
            "\n",
            "--- Informações do MEI ---\n",
            "Ramo de atividade: Serviços\n",
            "Receita Bruta anual: R$ 81000.00\n",
            "Despesas comprovadas do MEI: R$ 8100.00\n",
            "Lucro Evidenciado: R$ 72900.00\n",
            "Parcela isenta (32% da receita bruta anual): R$ 25920.00\n",
            "Parcela tributável do lucro: R$ 46980.00\n",
            "\n",
            "--- Na declaração IRPF, o MEI teria que preencher ---\n",
            "Ficha de Rendimentos Tributáveis Recebidos de PF (pró-labore): R$ 46980.00\n",
            "Ficha de Rendimentos Isentos - Lucros e Dividendos recebidos pelo titular: R$ 25920.00\n",
            "\n",
            "--- Orientações para Declaração do IRPF 2024 ---\n",
            "1. Acesse o programa da Receita Federal para declaração do IRPF.\n",
            "2. Na ficha 'Rendimentos Tributáveis Recebidos de Pessoa Jurídica' informe o valor da parcela tributável do lucro.\n",
            "3. Na ficha 'Rendimentos Isentos e Não Tributáveis', informe o valor da parcela isenta do lucro na linha 03 - Lucros e dividendos recebidos pelo titular.\n",
            "4. Siga as instruções do programa para concluir a declaração.\n",
            "5. Lembre-se de que você também pode precisar declarar outros rendimentos e bens que possui.\n",
            "\n",
            "Observação: Este cálculo é uma estimativa. Consulte um contador para obter informações precisas e declarar seu IRPF.\n"
          ]
        }
      ],
      "source": [
        "import pandas as pd\n",
        "\n",
        "def obter_informacoes_mei():\n",
        "    \"\"\" Obtém informações do MEI com validação. \"\"\"\n",
        "    while True:\n",
        "        ramo_atividade = input(\"Ramo de atividade (I - Indústria, C - Comércio, S - Serviços): \").upper()\n",
        "        if ramo_atividade in [\"I\", \"C\", \"S\"]:\n",
        "            break\n",
        "        print(\"Opção inválida. Digite I, C ou S.\")\n",
        "\n",
        "    while True:\n",
        "        try:\n",
        "            receita_bruta = float(input(\"Receita Bruta Anual do MEI: R$ \"))\n",
        "            if receita_bruta > 0:\n",
        "                break\n",
        "            print(\"A receita bruta deve ser positiva.\")\n",
        "        except ValueError:\n",
        "            print(\"Valor inválido. Digite um número.\")\n",
        "\n",
        "    while True:\n",
        "        try:\n",
        "            despesas_comprovadas = float(input(\"Despesas Comprovadas Anuais: R$ \"))\n",
        "            if despesas_comprovadas >= 0:\n",
        "                break\n",
        "            print(\"As despesas comprovadas não podem ser negativas.\")\n",
        "        except ValueError:\n",
        "            print(\"Valor inválido. Digite um número.\")\n",
        "\n",
        "    return ramo_atividade, receita_bruta, despesas_comprovadas\n",
        "\n",
        "def calcular_irpf(ramo_atividade, receita_bruta, despesas_comprovadas):\n",
        "    \"\"\" Calcula o imposto de renda do MEI e fornece orientações. \"\"\"\n",
        "    lucro_evidenciado = receita_bruta - despesas_comprovadas\n",
        "\n",
        "    parcelas_isentas = {\"I\": 0.08, \"C\": 0.08, \"S\": 0.32}  # Percentuais do artigo\n",
        "    parcela_isenta = receita_bruta * parcelas_isentas[ramo_atividade]\n",
        "    parcela_tributável = max(0, lucro_evidenciado - parcela_isenta)\n",
        "\n",
        "    # Tabela de IRPF 2024 (hipotética - utilize a tabela oficial quando disponível)\n",
        "    faixas_irpf = [\n",
        "        (0, 2112.00, 0, 0),  # Valores hipotéticos para 2024\n",
        "        (2112.01, 2826.65, 0.075, 158.40),  # Substitua pelos valores oficiais\n",
        "        # ... (demais faixas)\n",
        "    ]\n",
        "\n",
        "    imposto_devido = 0\n",
        "    for limite_inferior, limite_superior, aliquota, deducao in faixas_irpf:\n",
        "        if parcela_tributável > limite_inferior:\n",
        "            imposto_devido += (min(parcela_tributável, limite_superior) - limite_inferior) * aliquota - deducao\n",
        "\n",
        "    obrigado_declarar_irpf = parcela_tributável > 30639.90  # Limite do artigo\n",
        "\n",
        "    print(\"\\n--- Informações do MEI ---\")\n",
        "    print(f\"Ramo de atividade: {'Indústria' if ramo_atividade=='I' else 'Comércio' if ramo_atividade=='C' else 'Serviços'}\")\n",
        "    print(f\"Receita Bruta anual: R$ {receita_bruta:.2f}\")\n",
        "    print(f\"Despesas comprovadas do MEI: R$ {despesas_comprovadas:.2f}\")\n",
        "    print(f\"Lucro Evidenciado: R$ {lucro_evidenciado:.2f}\")\n",
        "    print(f\"Parcela isenta ({parcelas_isentas[ramo_atividade]*100:.0f}% da receita bruta anual): R$ {parcela_isenta:.2f}\")\n",
        "    print(f\"Parcela tributável do lucro: R$ {parcela_tributável:.2f}\")\n",
        "\n",
        "    print(\"\\n--- Na declaração IRPF, o MEI teria que preencher ---\")\n",
        "    if obrigado_declarar_irpf:\n",
        "        print(f\"Ficha de Rendimentos Tributáveis Recebidos de PF (pró-labore): R$ {parcela_tributável:.2f}\")\n",
        "    print(f\"Ficha de Rendimentos Isentos - Lucros e Dividendos recebidos pelo titular: R$ {parcela_isenta:.2f}\")\n",
        "\n",
        "    print(\"\\n--- Orientações para Declaração do IRPF 2024 ---\")\n",
        "    if obrigado_declarar_irpf:\n",
        "        print(\"1. Acesse o programa da Receita Federal para declaração do IRPF.\")\n",
        "        print(\"2. Na ficha 'Rendimentos Tributáveis Recebidos de Pessoa Jurídica'\",\n",
        "              \"informe o valor da parcela tributável do lucro.\")\n",
        "        print(\"3. Na ficha 'Rendimentos Isentos e Não Tributáveis', informe o valor\",\n",
        "              \"da parcela isenta do lucro na linha 03 - Lucros e dividendos recebidos pelo titular.\")\n",
        "        print(\"4. Siga as instruções do programa para concluir a declaração.\")\n",
        "        print(\"5. Lembre-se de que você também pode precisar declarar outros rendimentos\",\n",
        "              \"e bens que possui.\")\n",
        "    else:\n",
        "        print(\"Você não é obrigado a declarar o IRPF, mas pode ser vantajoso fazê-lo\",\n",
        "              \"se tiver direito a restituição.\")\n",
        "\n",
        "    print(\"\\nObservação: Este cálculo é uma estimativa. Consulte um contador para obter\",\n",
        "          \"informações precisas e declarar seu IRPF.\")\n",
        "\n",
        "# Execução do script\n",
        "if __name__ == \"__main__\":\n",
        "    ramo, receita, despesas = obter_informacoes_mei()\n",
        "    calcular_irpf(ramo, receita, despesas)"
      ]
    }
  ]
}